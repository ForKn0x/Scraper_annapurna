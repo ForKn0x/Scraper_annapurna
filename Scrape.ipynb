{
 "cells": [
  {
   "cell_type": "code",
   "execution_count": 1,
   "id": "94f38ba2",
   "metadata": {},
   "outputs": [],
   "source": [
    "import os\n",
    "import requests as req\n",
    "import json"
   ]
  },
  {
   "cell_type": "code",
   "execution_count": 2,
   "id": "da6a774c",
   "metadata": {},
   "outputs": [],
   "source": [
    "def scraper():\n",
    "    url = \"https://bg.annapurnapost.com/api/search?page={}&title=सन्दीप\"\n",
    "    \n",
    "    pagination = 30\n",
    "    \n",
    "    res = req.get(url.format(1))\n",
    "    data = res.json()\n",
    "    pages = data['data']['totalPage']\n",
    "    pages = pages+1\n",
    "    \n",
    "    start = 0\n",
    "    \n",
    "    file = os.path.exists('./memory.txt')\n",
    "    \n",
    "    if file:\n",
    "        with open('memory.txt','r') as line:\n",
    "            start = int(line.readline())+1\n",
    "\n",
    "    with open('news.json', 'a', encoding='utf-8') as paper:\n",
    "\n",
    "        for i in range(start, pages):\n",
    "            print('PASS')\n",
    "\n",
    "            try:\n",
    "                res = req.get(url.format(i))\n",
    "                data = res.json()\n",
    "                    \n",
    "                if res.status_code == 200:\n",
    "                    if data[\"status\"] == 'success':\n",
    "                        a = len(data['data'].get('items'))\n",
    "                        pagination = pagination - a\n",
    "                        \n",
    "                        for item in data['data']['items']:\n",
    "                            del item['isFeatured'], item['province'], item['introText'], item['newsHighlights'], item['status'], item['featuredImage'], item['caption'], item['videoLink'], item['isBreakingNews'], item['isImportantNews']\n",
    "                            \n",
    "                            \n",
    "                        json.dump(data['data']['items'], paper, ensure_ascii=False, indent=4)\n",
    "                        paper.write(',')\n",
    "                        \n",
    "                        if not pagination<=0: \n",
    "                            print('continue')\n",
    "                        else:\n",
    "                            break\n",
    "                \n",
    "            except:\n",
    "                with open('memory.txt', 'w') as line:\n",
    "                    line.write(str(i))\n",
    "                print(\"error\")\n",
    "                break\n",
    "            \n",
    "            with open('memory.txt', 'w') as line:\n",
    "                    line.write(str(i))\n",
    "            \n",
    "    paper.close()"
   ]
  },
  {
   "cell_type": "code",
   "execution_count": 3,
   "id": "8fd0e741",
   "metadata": {},
   "outputs": [
    {
     "name": "stdout",
     "output_type": "stream",
     "text": [
      "PASS\n",
      "PASS\n",
      "continue\n",
      "PASS\n",
      "continue\n",
      "PASS\n"
     ]
    }
   ],
   "source": [
    "scraper()"
   ]
  }
 ],
 "metadata": {
  "kernelspec": {
   "display_name": "Python 3 (ipykernel)",
   "language": "python",
   "name": "python3"
  },
  "language_info": {
   "codemirror_mode": {
    "name": "ipython",
    "version": 3
   },
   "file_extension": ".py",
   "mimetype": "text/x-python",
   "name": "python",
   "nbconvert_exporter": "python",
   "pygments_lexer": "ipython3",
   "version": "3.9.12"
  }
 },
 "nbformat": 4,
 "nbformat_minor": 5
}
