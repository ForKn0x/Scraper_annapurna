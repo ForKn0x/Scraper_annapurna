{
 "cells": [
  {
   "cell_type": "code",
   "execution_count": 1,
   "id": "94f38ba2",
   "metadata": {},
   "outputs": [],
   "source": [
    "import os\n",
    "import requests as req\n",
    "import json"
   ]
  },
  {
   "cell_type": "code",
   "execution_count": 2,
   "id": "a2f91d1b",
   "metadata": {},
   "outputs": [],
   "source": [
    "url = \"https://bg.annapurnapost.com/api/search?page={}&title=सन्दीप\""
   ]
  },
  {
   "cell_type": "code",
   "execution_count": 3,
   "id": "60d91d43",
   "metadata": {},
   "outputs": [],
   "source": [
    "def totalPage():\n",
    "    res = req.get(url.format(1))\n",
    "    data = res.json()\n",
    "    pages = data['data']['totalPage']\n",
    "    return pages"
   ]
  },
  {
   "cell_type": "code",
   "execution_count": 4,
   "id": "da6a774c",
   "metadata": {},
   "outputs": [],
   "source": [
    "def scraper(url, pg):\n",
    "    \n",
    "    pagination = 30\n",
    "    pages = pg+1\n",
    "    start = 0\n",
    "    news = 0\n",
    "    \n",
    "    file = os.path.exists('./memory.txt')\n",
    "    \n",
    "    if file:\n",
    "        with open('memory.txt','r') as line:\n",
    "            start = int(line.readline())+1\n",
    "\n",
    "    with open('news.json', 'a', encoding='utf-8') as paper:\n",
    "\n",
    "        for i in range(start, pages):\n",
    "            print('PASS')\n",
    "\n",
    "            try:\n",
    "                res = req.get(url.format(i))\n",
    "                data = res.json()\n",
    "                    \n",
    "                if res.status_code == 200:\n",
    "                    if data[\"status\"] == 'success':\n",
    "                        a = len(data['data'].get('items'))\n",
    "                        pagination = pagination - a\n",
    "                        news = news + a\n",
    "\n",
    "                        json.dump(data['data']['items'], paper, ensure_ascii=False, indent=4)\n",
    "                        paper.write(',')\n",
    "                        \n",
    "                        if not pagination<=0: \n",
    "                            print('continue')\n",
    "                        else:\n",
    "                            break\n",
    "                \n",
    "            except:\n",
    "                with open('memory.txt', 'w') as line:\n",
    "                    line.write(str(i))\n",
    "                print(\"error\")\n",
    "                break\n",
    "            \n",
    "            with open('memory.txt', 'w') as line:\n",
    "                    line.write(str(i))\n",
    "            \n",
    "    paper.close()"
   ]
  },
  {
   "cell_type": "code",
   "execution_count": 5,
   "id": "51c070cb",
   "metadata": {},
   "outputs": [],
   "source": [
    "tp = totalPage()"
   ]
  },
  {
   "cell_type": "code",
   "execution_count": 6,
   "id": "8fd0e741",
   "metadata": {},
   "outputs": [
    {
     "name": "stdout",
     "output_type": "stream",
     "text": [
      "PASS\n",
      "PASS\n",
      "continue\n",
      "PASS\n",
      "continue\n",
      "PASS\n"
     ]
    }
   ],
   "source": [
    "scraper(url, tp)"
   ]
  },
  {
   "cell_type": "code",
   "execution_count": null,
   "id": "f08ace69",
   "metadata": {},
   "outputs": [],
   "source": []
  }
 ],
 "metadata": {
  "kernelspec": {
   "display_name": "Python 3 (ipykernel)",
   "language": "python",
   "name": "python3"
  },
  "language_info": {
   "codemirror_mode": {
    "name": "ipython",
    "version": 3
   },
   "file_extension": ".py",
   "mimetype": "text/x-python",
   "name": "python",
   "nbconvert_exporter": "python",
   "pygments_lexer": "ipython3",
   "version": "3.9.12"
  }
 },
 "nbformat": 4,
 "nbformat_minor": 5
}
